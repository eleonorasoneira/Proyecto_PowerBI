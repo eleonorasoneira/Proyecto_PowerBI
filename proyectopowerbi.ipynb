{
 "cells": [
  {
   "cell_type": "code",
   "execution_count": 2,
   "metadata": {},
   "outputs": [],
   "source": [
    "import pandas as pd # Importar la librería pandas para manipulación y análisis de datos.\n",
    "import seaborn as sns # Importar seaborn para la visualización de datos con gráficos estadísticos.\n",
    "import matplotlib.pyplot as plt # Importar matplotlib.pyplot para crear gráficos estáticos, visualización de datos.\n",
    "import os # Importar la librería os para interactuar con el sistema operativo y gestionar rutas de archivos.\n",
    "from kaggle.api.kaggle_api_extended import KaggleApi # Importar la API de Kaggle para interactuar con la plataforma y descargar datasets."
   ]
  },
  {
   "cell_type": "code",
   "execution_count": 3,
   "metadata": {},
   "outputs": [
    {
     "name": "stdout",
     "output_type": "stream",
     "text": []
    }
   ],
   "source": [
    "# Comprobar si el archivo de autenticación de Kaggle (`kaggle.json`) existe en la ruta especificada.\n",
    "print(os.path.exists(os.path.expanduser(\"~/kaggle.json\"))) # Si es falso, significa que no puede encontrar la clave de autenticación.\n",
    "\n",
    "# Establer la variable de entorno \"KAGGLE_CONFIG_DIR\" a la ruta donde está almacenado el archivo de configuración de Kaggle.\n",
    "# Esto es necesario para que la API de Kaggle pueda encontrar el archivo de autenticación.\n",
    "os.environ[\"KAGGLE_CONFIG_DIR\"] = \"C:\\\\Users\\\\Kathe\\\\.kaggle\"  \n",
    "\n",
    "# Crear una instancia de la clase KaggleApi para interactuar con la API de Kaggle.\n",
    "api = KaggleApi()  \n",
    "\n",
    "# Autenticar la conexión a la API de Kaggle usando el archivo de autenticación configurado en el paso anterior.\n",
    "api.authenticate()"
   ]
  },
  {
   "cell_type": "markdown",
   "metadata": {},
   "source": [
    "## Búsqueda y descarga de datasets de Kaggle"
   ]
  },
  {
   "cell_type": "code",
   "execution_count": 26,
   "metadata": {},
   "outputs": [
    {
     "name": "stdout",
     "output_type": "stream",
     "text": []
    }
   ],
   "source": [
    "# Usamos el método `datasets_list` de la API de Kaggle para buscar datasets relacionados con \"World Happiness Report\".\n",
    "datasets = api.datasets_list(search=\"gender gap\") # Esto devolverá una lista de datasets que coinciden con la búsqueda.  \n",
    "\n",
    "# Imprimimos la lista de datasets obtenida para ver los resultados de la búsqueda.\n",
    "print(datasets)  "
   ]
  },
  {
   "cell_type": "code",
   "execution_count": 27,
   "metadata": {},
   "outputs": [
    {
     "name": "stdout",
     "output_type": "stream",
     "text": []
    }
   ],
   "source": [
    "# Obtener la cantidad de elementos en la lista `datasets` que se han encontrado en la búsqueda.\n",
    "len(datasets)  "
   ]
  },
  {
   "cell_type": "code",
   "execution_count": 28,
   "metadata": {},
   "outputs": [],
   "source": [
    "# Convertir la lista de datasets en un DataFrame para manejarlo como una tabla.\n",
    "df_datasets = pd.DataFrame(datasets)  \n",
    "\n",
    "# Configurar pandas para mostrar todas las columnas al imprimir el DataFrame.\n",
    "pd.set_option('display.max_columns', None)  "
   ]
  },
  {
   "cell_type": "code",
   "execution_count": null,
   "metadata": {},
   "outputs": [
    {
     "name": "stdout",
     "output_type": "stream",
     "text": []
    }
   ],
   "source": [
    "df_datasets #resultados de la búsqueda de datasets en la API de Kaggle"
   ]
  },
  {
   "cell_type": "code",
   "execution_count": 30,
   "metadata": {},
   "outputs": [],
   "source": [
    "# Especificamos el nombre del dataset que queremos descargar, utilizando su 'slug' (identificador único).\n",
    "dataset_slug = 'dataset-owner/dataset-name'  \n",
    "\n",
    "# Establecemos la ruta local donde se descargará y extraerá el dataset.\n",
    "download_path = \"files\"  \n",
    "\n",
    "# Crear la carpeta si no existe\n",
    "if not os.path.exists(download_path):\n",
    "    os.makedirs(download_path)\n",
    "\n",
    "# Función para descargar el dataset utilizando la API de Kaggle.\n",
    "def get_datasets(dataset_slug):  \n",
    "    try:\n",
    "        # Intentamos descargar y descomprimir el archivo del dataset en la ruta especificada.\n",
    "        api.dataset_download_files(dataset_slug, path=download_path, unzip=True)  \n",
    "        # Imprimimos un mensaje de éxito si el dataset se descarga correctamente.\n",
    "        print(f\"Conjunto de datos descargado y extraído a {download_path}\")  \n",
    "\n",
    "    except Exception as e:  \n",
    "        # Si ocurre un error, lo capturamos y mostramos un mensaje de error.\n",
    "        print(f\"Error al descargar el conjunto de datos: {e}\")  "
   ]
  },
  {
   "cell_type": "code",
   "execution_count": null,
   "metadata": {},
   "outputs": [],
   "source": [
    "Dataset1 = get_datasets(df_datasets.iloc[0, 13])  \n",
    "\n",
    "#URL: https://www.kaggle.com/datasets/nilimajauhari/glassdoor-analyze-gender-pay-gap"
   ]
  },
  {
   "cell_type": "code",
   "execution_count": null,
   "metadata": {},
   "outputs": [],
   "source": [
    "Dataset2 = get_datasets(df_datasets.iloc[1, 13])  "
   ]
  },
  {
   "cell_type": "code",
   "execution_count": null,
   "metadata": {},
   "outputs": [
    {
     "name": "stdout",
     "output_type": "stream",
     "text": []
    }
   ],
   "source": [
    "Dataset3 = get_datasets(df_datasets.iloc[2, 13]) "
   ]
  },
  {
   "cell_type": "code",
   "execution_count": null,
   "metadata": {},
   "outputs": [
    {
     "name": "stdout",
     "output_type": "stream",
     "text": []
    }
   ],
   "source": [
    "Dataset4 = get_datasets(df_datasets.iloc[3, 13]) "
   ]
  },
  {
   "cell_type": "code",
   "execution_count": null,
   "metadata": {},
   "outputs": [
    {
     "name": "stdout",
     "output_type": "stream",
     "text": []
    }
   ],
   "source": [
    "Dataset5 = get_datasets(df_datasets.iloc[4, 13]) "
   ]
  },
  {
   "cell_type": "code",
   "execution_count": null,
   "metadata": {},
   "outputs": [
    {
     "name": "stdout",
     "output_type": "stream",
     "text": []
    }
   ],
   "source": [
    "Dataset6= get_datasets(df_datasets.iloc[5, 13]) "
   ]
  },
  {
   "cell_type": "code",
   "execution_count": null,
   "metadata": {},
   "outputs": [],
   "source": [
    "Dataset7= get_datasets(df_datasets.iloc[4, 13]) \n",
    "\n",
    "#URL: https://www.kaggle.com/datasets/spingere/us-salary-by-race-and-sex"
   ]
  },
  {
   "cell_type": "code",
   "execution_count": 14,
   "metadata": {},
   "outputs": [
    {
     "name": "stdout",
     "output_type": "stream",
     "text": []
    }
   ],
   "source": [
    "df_1 = pd.read_csv('files/1_Glassdoor Gender Pay Gap.csv')\n",
    "df_1"
   ]
  },
  {
   "cell_type": "code",
   "execution_count": 32,
   "metadata": {},
   "outputs": [
    {
     "name": "stdout",
     "output_type": "stream",
     "text": []
    }
   ],
   "source": [
    "df_7 = pd.read_csv('files/7_salary_bras.csv')\n",
    "df_7"
   ]
  },
  {
   "cell_type": "markdown",
   "metadata": {},
   "source": [
    "## Exploración y Limpieza de los dos datasets elegidos"
   ]
  },
  {
   "cell_type": "code",
   "execution_count": 34,
   "metadata": {},
   "outputs": [
    {
     "name": "stdout",
     "output_type": "stream",
     "text": []
    }
   ],
   "source": [
    "df_7.dtypes"
   ]
  },
  {
   "cell_type": "code",
   "execution_count": 38,
   "metadata": {},
   "outputs": [
    {
     "name": "stdout",
     "output_type": "stream",
     "text": []
    }
   ],
   "source": [
    "# Bucle para convertir columnas float a integer\n",
    "for columna in df_7.columns:\n",
    "    if df_7[columna].dtype == 'float64':  # Verifica si la columna es float\n",
    "        df_7[columna] = df_7[columna].astype(int)\n",
    "\n",
    "print(\"\\nDataFrame con columnas float convertidas a integer:\")\n",
    "print(df_7)\n",
    "print(df_7.dtypes)"
   ]
  },
  {
   "cell_type": "code",
   "execution_count": 40,
   "metadata": {},
   "outputs": [
    {
     "name": "stdout",
     "output_type": "stream",
     "text": []
    }
   ],
   "source": [
    "df_1.isnull().sum()"
   ]
  },
  {
   "cell_type": "code",
   "execution_count": 41,
   "metadata": {},
   "outputs": [
    {
     "name": "stdout",
     "output_type": "stream",
     "text": []
    }
   ],
   "source": [
    "df_1.dtypes"
   ]
  },
  {
   "cell_type": "code",
   "execution_count": 43,
   "metadata": {},
   "outputs": [
    {
     "name": "stdout",
     "output_type": "stream",
     "text": []
    }
   ],
   "source": [
    "df_1.head()"
   ]
  },
  {
   "cell_type": "code",
   "execution_count": 44,
   "metadata": {},
   "outputs": [
    {
     "name": "stdout",
     "output_type": "stream",
     "text": []
    }
   ],
   "source": [
    "df_1.shape"
   ]
  },
  {
   "cell_type": "code",
   "execution_count": 48,
   "metadata": {},
   "outputs": [
    {
     "name": "stdout",
     "output_type": "stream",
     "text": []
    }
   ],
   "source": [
    "df_1['Gender'].value_counts()"
   ]
  },
  {
   "cell_type": "code",
   "execution_count": 51,
   "metadata": {},
   "outputs": [
    {
     "name": "stdout",
     "output_type": "stream",
     "text": []
    }
   ],
   "source": [
    "df_1.duplicated().sum()"
   ]
  },
  {
   "cell_type": "code",
   "execution_count": 52,
   "metadata": {},
   "outputs": [],
   "source": [
    "df_1.to_csv('files/glassdoorsample.csv')\n",
    "df_7.to_csv('files/race_geneder_salaries.csv')"
   ]
  }
 ],
 "metadata": {
  "kernelspec": {
   "display_name": "Python 3",
   "language": "python",
   "name": "python3"
  },
  "language_info": {
   "codemirror_mode": {
    "name": "ipython",
    "version": 3
   },
   "file_extension": ".py",
   "mimetype": "text/x-python",
   "name": "python",
   "nbconvert_exporter": "python",
   "pygments_lexer": "ipython3",
   "version": "3.13.0"
  }
 },
 "nbformat": 4,
 "nbformat_minor": 2
}

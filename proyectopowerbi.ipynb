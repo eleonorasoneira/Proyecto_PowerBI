{
 "cells": [
  {
   "cell_type": "code",
   "execution_count": 2,
   "metadata": {},
   "outputs": [],
   "source": [
    "import pandas as pd # Importar la librería pandas para manipulación y análisis de datos.\n",
    "import seaborn as sns # Importar seaborn para la visualización de datos con gráficos estadísticos.\n",
    "import matplotlib.pyplot as plt # Importar matplotlib.pyplot para crear gráficos estáticos, visualización de datos.\n",
    "import os # Importar la librería os para interactuar con el sistema operativo y gestionar rutas de archivos.\n",
    "from kaggle.api.kaggle_api_extended import KaggleApi # Importar la API de Kaggle para interactuar con la plataforma y descargar datasets."
   ]
  },
  {
   "cell_type": "code",
   "execution_count": 3,
   "metadata": {},
   "outputs": [
    {
     "name": "stdout",
     "output_type": "stream",
     "text": []
    }
   ],
   "source": [
    "# Comprobar si el archivo de autenticación de Kaggle (`kaggle.json`) existe en la ruta especificada.\n",
    "print(os.path.exists(os.path.expanduser(\"~/kaggle.json\"))) # Si es falso, significa que no puede encontrar la clave de autenticación.\n",
    "\n",
    "# Establer la variable de entorno \"KAGGLE_CONFIG_DIR\" a la ruta donde está almacenado el archivo de configuración de Kaggle.\n",
    "# Esto es necesario para que la API de Kaggle pueda encontrar el archivo de autenticación.\n",
    "os.environ[\"KAGGLE_CONFIG_DIR\"] = \"C:\\\\Users\\\\Kathe\\\\.kaggle\"  \n",
    "\n",
    "# Crear una instancia de la clase KaggleApi para interactuar con la API de Kaggle.\n",
    "api = KaggleApi()  \n",
    "\n",
    "# Autenticar la conexión a la API de Kaggle usando el archivo de autenticación configurado en el paso anterior.\n",
    "api.authenticate()"
   ]
  },
  {
   "cell_type": "markdown",
   "metadata": {},
   "source": [
    "## Búsqueda y descarga de datasets de Kaggle"
   ]
  },
  {
   "cell_type": "code",
   "execution_count": 26,
   "metadata": {},
   "outputs": [
    {
     "name": "stdout",
     "output_type": "stream",
     "text": []
    }
   ],
   "source": [
    "# Usamos el método `datasets_list` de la API de Kaggle para buscar datasets relacionados con \"World Happiness Report\".\n",
    "datasets = api.datasets_list(search=\"gender gap\") # Esto devolverá una lista de datasets que coinciden con la búsqueda.  \n",
    "\n",
    "# Imprimimos la lista de datasets obtenida para ver los resultados de la búsqueda.\n",
    "print(datasets)  "
   ]
  },
  {
   "cell_type": "code",
   "execution_count": 27,
   "metadata": {},
   "outputs": [
    {
     "name": "stdout",
     "output_type": "stream",
     "text": []
    }
   ],
   "source": [
    "# Obtener la cantidad de elementos en la lista `datasets` que se han encontrado en la búsqueda.\n",
    "len(datasets)  "
   ]
  },
  {
   "cell_type": "code",
   "execution_count": 28,
   "metadata": {},
   "outputs": [],
   "source": [
    "# Convertir la lista de datasets en un DataFrame para manejarlo como una tabla.\n",
    "df_datasets = pd.DataFrame(datasets)  \n",
    "\n",
    "# Configurar pandas para mostrar todas las columnas al imprimir el DataFrame.\n",
    "pd.set_option('display.max_columns', None)  "
   ]
  },
  {
   "cell_type": "code",
   "execution_count": null,
   "metadata": {},
   "outputs": [
    {
     "name": "stdout",
     "output_type": "stream",
     "text": []
    }
   ],
   "source": [
    "df_datasets #resultados de la búsqueda de datasets en la API de Kaggle"
   ]
  },
  {
   "cell_type": "code",
   "execution_count": 30,
   "metadata": {},
   "outputs": [],
   "source": [
    "# Especificamos el nombre del dataset que queremos descargar, utilizando su 'slug' (identificador único).\n",
    "dataset_slug = 'dataset-owner/dataset-name'  \n",
    "\n",
    "# Establecemos la ruta local donde se descargará y extraerá el dataset.\n",
    "download_path = \"files\"  \n",
    "\n",
    "# Crear la carpeta si no existe\n",
    "if not os.path.exists(download_path):\n",
    "    os.makedirs(download_path)\n",
    "\n",
    "# Función para descargar el dataset utilizando la API de Kaggle.\n",
    "def get_datasets(dataset_slug):  \n",
    "    try:\n",
    "        # Intentamos descargar y descomprimir el archivo del dataset en la ruta especificada.\n",
    "        api.dataset_download_files(dataset_slug, path=download_path, unzip=True)  \n",
    "        # Imprimimos un mensaje de éxito si el dataset se descarga correctamente.\n",
    "        print(f\"Conjunto de datos descargado y extraído a {download_path}\")  \n",
    "\n",
    "    except Exception as e:  \n",
    "        # Si ocurre un error, lo capturamos y mostramos un mensaje de error.\n",
    "        print(f\"Error al descargar el conjunto de datos: {e}\")  "
   ]
  },
  {
   "cell_type": "code",
   "execution_count": null,
   "metadata": {},
   "outputs": [],
   "source": [
    "Dataset1 = get_datasets(df_datasets.iloc[0, 13])  \n",
    "\n",
    "#URL: https://www.kaggle.com/datasets/nilimajauhari/glassdoor-analyze-gender-pay-gap"
   ]
  },
  {
   "cell_type": "code",
   "execution_count": null,
   "metadata": {},
   "outputs": [],
   "source": [
    "Dataset2 = get_datasets(df_datasets.iloc[1, 13])  "
   ]
  },
  {
   "cell_type": "code",
   "execution_count": null,
   "metadata": {},
   "outputs": [
    {
     "name": "stdout",
     "output_type": "stream",
     "text": []
    }
   ],
   "source": [
    "Dataset3 = get_datasets(df_datasets.iloc[2, 13]) "
   ]
  },
  {
   "cell_type": "code",
   "execution_count": null,
   "metadata": {},
   "outputs": [
    {
     "name": "stdout",
     "output_type": "stream",
     "text": []
    }
   ],
   "source": [
    "Dataset4 = get_datasets(df_datasets.iloc[3, 13]) "
   ]
  },
  {
   "cell_type": "code",
   "execution_count": null,
   "metadata": {},
   "outputs": [
    {
     "name": "stdout",
     "output_type": "stream",
     "text": []
    }
   ],
   "source": [
    "Dataset5 = get_datasets(df_datasets.iloc[4, 13]) "
   ]
  },
  {
   "cell_type": "code",
   "execution_count": null,
   "metadata": {},
   "outputs": [
    {
     "name": "stdout",
     "output_type": "stream",
     "text": []
    }
   ],
   "source": [
    "Dataset6= get_datasets(df_datasets.iloc[5, 13]) "
   ]
  },
  {
   "cell_type": "code",
   "execution_count": null,
   "metadata": {},
   "outputs": [],
   "source": [
    "Dataset7= get_datasets(df_datasets.iloc[4, 13]) \n",
    "\n",
    "#URL: https://www.kaggle.com/datasets/spingere/us-salary-by-race-and-sex"
   ]
  },
  {
   "cell_type": "code",
   "execution_count": 3,
   "metadata": {},
   "outputs": [
    {
     "data": {
      "text/html": [
       "<div>\n",
       "<style scoped>\n",
       "    .dataframe tbody tr th:only-of-type {\n",
       "        vertical-align: middle;\n",
       "    }\n",
       "\n",
       "    .dataframe tbody tr th {\n",
       "        vertical-align: top;\n",
       "    }\n",
       "\n",
       "    .dataframe thead th {\n",
       "        text-align: right;\n",
       "    }\n",
       "</style>\n",
       "<table border=\"1\" class=\"dataframe\">\n",
       "  <thead>\n",
       "    <tr style=\"text-align: right;\">\n",
       "      <th></th>\n",
       "      <th>JobTitle</th>\n",
       "      <th>Gender</th>\n",
       "      <th>Age</th>\n",
       "      <th>PerfEval</th>\n",
       "      <th>Education</th>\n",
       "      <th>Dept</th>\n",
       "      <th>Seniority</th>\n",
       "      <th>BasePay</th>\n",
       "      <th>Bonus</th>\n",
       "    </tr>\n",
       "  </thead>\n",
       "  <tbody>\n",
       "    <tr>\n",
       "      <th>0</th>\n",
       "      <td>Graphic Designer</td>\n",
       "      <td>Female</td>\n",
       "      <td>18</td>\n",
       "      <td>5</td>\n",
       "      <td>College</td>\n",
       "      <td>Operations</td>\n",
       "      <td>2</td>\n",
       "      <td>42363</td>\n",
       "      <td>9938</td>\n",
       "    </tr>\n",
       "    <tr>\n",
       "      <th>1</th>\n",
       "      <td>Software Engineer</td>\n",
       "      <td>Male</td>\n",
       "      <td>21</td>\n",
       "      <td>5</td>\n",
       "      <td>College</td>\n",
       "      <td>Management</td>\n",
       "      <td>5</td>\n",
       "      <td>108476</td>\n",
       "      <td>11128</td>\n",
       "    </tr>\n",
       "    <tr>\n",
       "      <th>2</th>\n",
       "      <td>Warehouse Associate</td>\n",
       "      <td>Female</td>\n",
       "      <td>19</td>\n",
       "      <td>4</td>\n",
       "      <td>PhD</td>\n",
       "      <td>Administration</td>\n",
       "      <td>5</td>\n",
       "      <td>90208</td>\n",
       "      <td>9268</td>\n",
       "    </tr>\n",
       "    <tr>\n",
       "      <th>3</th>\n",
       "      <td>Software Engineer</td>\n",
       "      <td>Male</td>\n",
       "      <td>20</td>\n",
       "      <td>5</td>\n",
       "      <td>Masters</td>\n",
       "      <td>Sales</td>\n",
       "      <td>4</td>\n",
       "      <td>108080</td>\n",
       "      <td>10154</td>\n",
       "    </tr>\n",
       "    <tr>\n",
       "      <th>4</th>\n",
       "      <td>Graphic Designer</td>\n",
       "      <td>Male</td>\n",
       "      <td>26</td>\n",
       "      <td>5</td>\n",
       "      <td>Masters</td>\n",
       "      <td>Engineering</td>\n",
       "      <td>5</td>\n",
       "      <td>99464</td>\n",
       "      <td>9319</td>\n",
       "    </tr>\n",
       "    <tr>\n",
       "      <th>...</th>\n",
       "      <td>...</td>\n",
       "      <td>...</td>\n",
       "      <td>...</td>\n",
       "      <td>...</td>\n",
       "      <td>...</td>\n",
       "      <td>...</td>\n",
       "      <td>...</td>\n",
       "      <td>...</td>\n",
       "      <td>...</td>\n",
       "    </tr>\n",
       "    <tr>\n",
       "      <th>995</th>\n",
       "      <td>Marketing Associate</td>\n",
       "      <td>Female</td>\n",
       "      <td>61</td>\n",
       "      <td>1</td>\n",
       "      <td>High School</td>\n",
       "      <td>Administration</td>\n",
       "      <td>1</td>\n",
       "      <td>62644</td>\n",
       "      <td>3270</td>\n",
       "    </tr>\n",
       "    <tr>\n",
       "      <th>996</th>\n",
       "      <td>Data Scientist</td>\n",
       "      <td>Male</td>\n",
       "      <td>57</td>\n",
       "      <td>1</td>\n",
       "      <td>Masters</td>\n",
       "      <td>Sales</td>\n",
       "      <td>2</td>\n",
       "      <td>108977</td>\n",
       "      <td>3567</td>\n",
       "    </tr>\n",
       "    <tr>\n",
       "      <th>997</th>\n",
       "      <td>Financial Analyst</td>\n",
       "      <td>Male</td>\n",
       "      <td>48</td>\n",
       "      <td>1</td>\n",
       "      <td>High School</td>\n",
       "      <td>Operations</td>\n",
       "      <td>1</td>\n",
       "      <td>92347</td>\n",
       "      <td>2724</td>\n",
       "    </tr>\n",
       "    <tr>\n",
       "      <th>998</th>\n",
       "      <td>Financial Analyst</td>\n",
       "      <td>Male</td>\n",
       "      <td>65</td>\n",
       "      <td>2</td>\n",
       "      <td>High School</td>\n",
       "      <td>Administration</td>\n",
       "      <td>1</td>\n",
       "      <td>97376</td>\n",
       "      <td>2225</td>\n",
       "    </tr>\n",
       "    <tr>\n",
       "      <th>999</th>\n",
       "      <td>Financial Analyst</td>\n",
       "      <td>Male</td>\n",
       "      <td>60</td>\n",
       "      <td>1</td>\n",
       "      <td>PhD</td>\n",
       "      <td>Sales</td>\n",
       "      <td>2</td>\n",
       "      <td>123108</td>\n",
       "      <td>2244</td>\n",
       "    </tr>\n",
       "  </tbody>\n",
       "</table>\n",
       "<p>1000 rows × 9 columns</p>\n",
       "</div>"
      ],
      "text/plain": [
       "                JobTitle  Gender  Age  PerfEval    Education            Dept  \\\n",
       "0       Graphic Designer  Female   18         5      College      Operations   \n",
       "1      Software Engineer    Male   21         5      College      Management   \n",
       "2    Warehouse Associate  Female   19         4          PhD  Administration   \n",
       "3      Software Engineer    Male   20         5      Masters           Sales   \n",
       "4       Graphic Designer    Male   26         5      Masters     Engineering   \n",
       "..                   ...     ...  ...       ...          ...             ...   \n",
       "995  Marketing Associate  Female   61         1  High School  Administration   \n",
       "996       Data Scientist    Male   57         1      Masters           Sales   \n",
       "997    Financial Analyst    Male   48         1  High School      Operations   \n",
       "998    Financial Analyst    Male   65         2  High School  Administration   \n",
       "999    Financial Analyst    Male   60         1          PhD           Sales   \n",
       "\n",
       "     Seniority  BasePay  Bonus  \n",
       "0            2    42363   9938  \n",
       "1            5   108476  11128  \n",
       "2            5    90208   9268  \n",
       "3            4   108080  10154  \n",
       "4            5    99464   9319  \n",
       "..         ...      ...    ...  \n",
       "995          1    62644   3270  \n",
       "996          2   108977   3567  \n",
       "997          1    92347   2724  \n",
       "998          1    97376   2225  \n",
       "999          2   123108   2244  \n",
       "\n",
       "[1000 rows x 9 columns]"
      ]
     },
     "execution_count": 3,
     "metadata": {},
     "output_type": "execute_result"
    }
   ],
   "source": [
    "df_1 = pd.read_csv('files/1_Glassdoor Gender Pay Gap.csv')\n",
    "df_1"
   ]
  },
  {
   "cell_type": "code",
   "execution_count": 11,
   "metadata": {},
   "outputs": [
    {
     "name": "stdout",
     "output_type": "stream",
     "text": [
      "Gender\n",
      "Male      53.2\n",
      "Female    46.8\n",
      "Name: count, dtype: float64\n"
     ]
    }
   ],
   "source": [
    "# Count occurrences of each gender\n",
    "gender_counts = df_1['Gender'].value_counts()/1000*100\n",
    "print(gender_counts)"
   ]
  },
  {
   "cell_type": "code",
   "execution_count": 32,
   "metadata": {},
   "outputs": [
    {
     "name": "stdout",
     "output_type": "stream",
     "text": []
    }
   ],
   "source": [
    "df_7 = pd.read_csv('files/7_salary_bras.csv')\n",
    "df_7"
   ]
  },
  {
   "cell_type": "markdown",
   "metadata": {},
   "source": [
    "## Exploración y Limpieza de los dos datasets elegidos"
   ]
  },
  {
   "cell_type": "code",
   "execution_count": 34,
   "metadata": {},
   "outputs": [
    {
     "name": "stdout",
     "output_type": "stream",
     "text": []
    }
   ],
   "source": [
    "df_7.dtypes"
   ]
  },
  {
   "cell_type": "code",
   "execution_count": 38,
   "metadata": {},
   "outputs": [
    {
     "name": "stdout",
     "output_type": "stream",
     "text": []
    }
   ],
   "source": [
    "# Bucle para convertir columnas float a integer\n",
    "for columna in df_7.columns:\n",
    "    if df_7[columna].dtype == 'float64':  # Verifica si la columna es float\n",
    "        df_7[columna] = df_7[columna].astype(int)\n",
    "\n",
    "print(\"\\nDataFrame con columnas float convertidas a integer:\")\n",
    "print(df_7)\n",
    "print(df_7.dtypes)"
   ]
  },
  {
   "cell_type": "code",
   "execution_count": 40,
   "metadata": {},
   "outputs": [
    {
     "name": "stdout",
     "output_type": "stream",
     "text": []
    }
   ],
   "source": [
    "df_1.isnull().sum()"
   ]
  },
  {
   "cell_type": "code",
   "execution_count": 41,
   "metadata": {},
   "outputs": [
    {
     "name": "stdout",
     "output_type": "stream",
     "text": []
    }
   ],
   "source": [
    "df_1.dtypes"
   ]
  },
  {
   "cell_type": "code",
   "execution_count": 43,
   "metadata": {},
   "outputs": [
    {
     "name": "stdout",
     "output_type": "stream",
     "text": []
    }
   ],
   "source": [
    "df_1.head()"
   ]
  },
  {
   "cell_type": "code",
   "execution_count": 44,
   "metadata": {},
   "outputs": [
    {
     "name": "stdout",
     "output_type": "stream",
     "text": []
    }
   ],
   "source": [
    "df_1.shape"
   ]
  },
  {
   "cell_type": "code",
   "execution_count": 48,
   "metadata": {},
   "outputs": [
    {
     "name": "stdout",
     "output_type": "stream",
     "text": []
    }
   ],
   "source": [
    "df_1['Gender'].value_counts()"
   ]
  },
  {
   "cell_type": "code",
   "execution_count": 51,
   "metadata": {},
   "outputs": [
    {
     "name": "stdout",
     "output_type": "stream",
     "text": []
    }
   ],
   "source": [
    "df_1.duplicated().sum()"
   ]
  },
  {
   "cell_type": "code",
   "execution_count": 52,
   "metadata": {},
   "outputs": [],
   "source": [
    "df_1.to_csv('files/glassdoorsample.csv')\n",
    "df_7.to_csv('files/race_geneder_salaries.csv')"
   ]
  }
 ],
 "metadata": {
  "kernelspec": {
   "display_name": "Python 3",
   "language": "python",
   "name": "python3"
  },
  "language_info": {
   "codemirror_mode": {
    "name": "ipython",
    "version": 3
   },
   "file_extension": ".py",
   "mimetype": "text/x-python",
   "name": "python",
   "nbconvert_exporter": "python",
   "pygments_lexer": "ipython3",
   "version": "3.13.0"
  }
 },
 "nbformat": 4,
 "nbformat_minor": 2
}
